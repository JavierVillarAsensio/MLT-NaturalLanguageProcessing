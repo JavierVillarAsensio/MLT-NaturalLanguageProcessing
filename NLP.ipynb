{
  "nbformat": 4,
  "nbformat_minor": 0,
  "metadata": {
    "colab": {
      "provenance": [],
      "authorship_tag": "ABX9TyPHOMzdViY9xVqYljYIklQc",
      "include_colab_link": true
    },
    "kernelspec": {
      "name": "python3",
      "display_name": "Python 3"
    },
    "language_info": {
      "name": "python"
    }
  },
  "cells": [
    {
      "cell_type": "markdown",
      "metadata": {
        "id": "view-in-github",
        "colab_type": "text"
      },
      "source": [
        "<a href=\"https://colab.research.google.com/github/JavierVillarAsensio/MLT-NaturalLanguageProcessing/blob/main/NLP.ipynb\" target=\"_parent\"><img src=\"https://colab.research.google.com/assets/colab-badge.svg\" alt=\"Open In Colab\"/></a>"
      ]
    },
    {
      "cell_type": "code",
      "execution_count": null,
      "metadata": {
        "id": "NAgtbOBG5U9P"
      },
      "outputs": [],
      "source": [
        "import numpy as np\n",
        "import pandas as pd\n",
        "from google.colab import drive\n",
        "\n",
        "import matplotlib.pyplot as plt\n",
        "import seaborn as sns"
      ]
    },
    {
      "cell_type": "code",
      "source": [
        "drive.mount('/content/drive')\n",
        "df_prods = pd.read_csv(\"drive/MyDrive/products.csv\", on_bad_lines='skip')"
      ],
      "metadata": {
        "colab": {
          "base_uri": "https://localhost:8080/"
        },
        "id": "DlXUwka46dAX",
        "outputId": "436e7623-c643-4275-f6f7-9621f6a021d8"
      },
      "execution_count": null,
      "outputs": [
        {
          "output_type": "stream",
          "name": "stdout",
          "text": [
            "Drive already mounted at /content/drive; to attempt to forcibly remount, call drive.mount(\"/content/drive\", force_remount=True).\n"
          ]
        },
        {
          "output_type": "stream",
          "name": "stderr",
          "text": [
            "/usr/local/lib/python3.8/dist-packages/IPython/core/interactiveshell.py:3326: DtypeWarning: Columns (1,2,3,4,5,6,7,8,9) have mixed types.Specify dtype option on import or set low_memory=False.\n",
            "  exec(code_obj, self.user_global_ns, self.user_ns)\n"
          ]
        },
        {
          "output_type": "execute_result",
          "data": {
            "text/plain": [
              "Id                              object\n",
              "ProductId                       object\n",
              "UserId                          object\n",
              "ProfileName                     object\n",
              "HelpfulnessNumerator            object\n",
              "HelpfulnessDenominator          object\n",
              "Score                           object\n",
              "Time                            object\n",
              "Summary                         object\n",
              "Text;;;;;;;;;;;;;;;;;;;;;;;;    object\n",
              "dtype: object"
            ]
          },
          "metadata": {},
          "execution_count": 15
        }
      ]
    },
    {
      "cell_type": "code",
      "source": [
        "#There are blank columns after Text, that is the reason of the ;\n",
        "texts = df_prods[\"Text;;;;;;;;;;;;;;;;;;;;;;;;\"]\n",
        "summs = df_prods[\"Summary\"]\n",
        "d = {'Text': texts, 'Summary': summs}\n",
        "texts_summs_df = pd.DataFrame(data=d)\n"
      ],
      "metadata": {
        "id": "4IAJlFUJFLQ1"
      },
      "execution_count": null,
      "outputs": []
    },
    {
      "cell_type": "code",
      "source": [
        "bad_chars = [\"!\", \"\\\"\" \"_\",  \"$\", \"%\", \"&\", \"/\", \"(\", \")\", \"=\", \"_\", \"ˆ\", \"*\", \"¡\", \"@\"]\n",
        "texts_summs_df.replace(bad_chars)\n",
        "texts_summs_df['Text'].str.lower()\n",
        "texts_summs_df['Summary'].str.lower()"
      ],
      "metadata": {
        "colab": {
          "base_uri": "https://localhost:8080/"
        },
        "id": "xmBnTBlJKzJQ",
        "outputId": "8c37d2c7-0065-4a30-9e1b-63092f446ada"
      },
      "execution_count": null,
      "outputs": [
        {
          "output_type": "execute_result",
          "data": {
            "text/plain": [
              "0         good quality dog food\n",
              "1                           NaN\n",
              "2                           NaN\n",
              "3                cough medicine\n",
              "4                           NaN\n",
              "                  ...          \n",
              "566788                      NaN\n",
              "566789                      NaN\n",
              "566790                      NaN\n",
              "566791                      NaN\n",
              "566792                      NaN\n",
              "Name: Summary, Length: 566793, dtype: object"
            ]
          },
          "metadata": {},
          "execution_count": 33
        }
      ]
    }
  ]
}